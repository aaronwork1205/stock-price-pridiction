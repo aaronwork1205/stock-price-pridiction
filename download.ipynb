{
 "cells": [
  {
   "cell_type": "code",
   "id": "initial_id",
   "metadata": {
    "collapsed": true,
    "jupyter": {
     "is_executing": true
    },
    "ExecuteTime": {
     "start_time": "2024-05-16T20:34:45.203598Z"
    }
   },
   "source": [
    "import yfinance as yf\n",
    "import pandas as pd\n",
    "from datetime import datetime, timedelta\n",
    "import os\n",
    "import requests\n",
    "from bs4 import BeautifulSoup\n",
    "\n",
    "# Step 1: Get the list of NYSE tickers\n",
    "def get_nyse_tickers():\n",
    "    url = 'https://www.nasdaq.com/market-activity/stocks/screener'\n",
    "    response = requests.get(url)\n",
    "    print(response)\n",
    "    soup = BeautifulSoup(response.content, 'html.parser')\n",
    "    table = soup.find('table', {'class': 'market-activity__table'})\n",
    "    \n",
    "    tickers = []\n",
    "    for row in table.find_all('tr')[1:]:\n",
    "        ticker = row.find_all('td')[0].text.strip()\n",
    "        tickers.append(ticker)\n",
    "        \n",
    "    return tickers\n",
    "\n",
    "# Step 2: Download historical data\n",
    "def download_stock_data(tickers, start_date, end_date, data_folder=\"stock_data\"):\n",
    "    for ticker in tickers:\n",
    "        try:\n",
    "            stock_data = yf.download(ticker, start=start_date, end=end_date)\n",
    "            if not stock_data.empty:\n",
    "                file_path = os.path.join(data_folder, f\"{ticker}.csv\")\n",
    "                stock_data.to_csv(file_path)\n",
    "                print(f\"Downloaded data for {ticker}\")\n",
    "            else:\n",
    "                print(f\"No data for {ticker}\")\n",
    "        except Exception as e:\n",
    "            print(f\"Could not download data for {ticker}: {e}\")\n",
    "\n",
    "# Create a folder to store the data if it doesn't exist\n",
    "data_folder = \"stock_data\"\n",
    "if not os.path.exists(data_folder):\n",
    "    os.makedirs(data_folder)\n",
    "\n",
    "# Define the date range\n",
    "end_date = datetime.today().date()\n",
    "start_date = end_date - timedelta(days=3*365)\n",
    "\n",
    "# Get the list of NYSE tickers\n",
    "nyse_tickers = get_nyse_tickers()\n",
    "\n",
    "# Download the stock data\n",
    "download_stock_data(nyse_tickers, start_date, end_date)\n"
   ],
   "outputs": [],
   "execution_count": null
  }
 ],
 "metadata": {
  "kernelspec": {
   "display_name": "Python 3",
   "language": "python",
   "name": "python3"
  },
  "language_info": {
   "codemirror_mode": {
    "name": "ipython",
    "version": 2
   },
   "file_extension": ".py",
   "mimetype": "text/x-python",
   "name": "python",
   "nbconvert_exporter": "python",
   "pygments_lexer": "ipython2",
   "version": "2.7.6"
  }
 },
 "nbformat": 4,
 "nbformat_minor": 5
}
